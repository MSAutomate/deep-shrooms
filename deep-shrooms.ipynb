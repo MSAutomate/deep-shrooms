{
 "cells": [
  {
   "cell_type": "markdown",
   "metadata": {},
   "source": [
    "# DeepShrooms\n",
    "\n",
    "Our goal is to classify pictures of (common) mushrooms using some kind of web-app.\n",
    "\n",
    "Challenge is to get good quality data for the training and then negate some common problems with images such as: lighting, angle, blurriness and background noise.\n",
    "\n",
    "Current plan is to classify only the poisonous mushrooms of Finland along with some common edible and un-edible ones. Probably using Convolutional Neural Network.\n",
    "\n",
    "\n",
    "Preliminary Models:\n",
    "\n",
    "Mushroom Class\n",
    "- name_fin - Finnish name\n",
    "- name_eng - English name\n",
    "- name_latin - Latin name\n",
    "- url_mw - Mushroom-world url\n",
    "- url_wiki? - Wikipedia url\n",
    "- url_lajit? - Lajit.fi url\n",
    "- img_urls? - List of links to its images. Probably should be deleted.\n",
    "- edibility - edible/poisonous/inedible\n",
    "\n",
    "Mushroom Image\n",
    "- name_latin - Latin name\n",
    "- name_img - Name of the image file\n",
    "- img_url - URL to the original picture\n",
    "- file_path - Path to the image from the root of its containing folder.\n",
    "\n",
    "## Sources of data\n",
    "\n",
    "Mushroom World\n",
    "http://www.mushroom.world\n",
    "\n",
    "Lajit\n",
    "http://tun.fi/HBF.25786?locale=fi\n",
    "\n",
    "Luontoportti\n",
    "http://www.luontoportti.com/suomi/fi/sienet/\n",
    "\n",
    "\n",
    "## General guidance for classifying mushrooms from pictures\n",
    "\n",
    "1) Note where the mushroom grows: is it on the ground or on wood.  \n",
    "1.1) If it grows on ground it could be a saprotroph of detritus (karikkeen lahottaja), mycorrhiza (juurisieni) which is specific type of mushroom living from the roots of a tree or it could still be a saprotroph of a tree but the wood is on ground level.  \n",
    "1.2) If it grows on wood consider if it's conifer(havupuu) or hardwood(lehtipuu). Some species grow on only a very specific wood like oak.  \n",
    "2) Do not consider the time of year to be a indicator of any sort. Every year the seasons length differ so one year the mushroom season might start way later than the next year.  \n",
    "3) Underneath the mushroom cap can be different types of gills in various combinations. (TODO)  \n",
    "4) Surface of the cap is also a very good classifier of the mushroom. The structure might not be possible to know from a picture though.  \n",
    "5) Color of the mushroom varies a lot depending on the humidity and the age of the mushroom. When raining the colors get deeper and more distinctive. Young mushrooms have stronger colors than old ones. Also sunlight might diminish the colors.  \n",
    "6) Stipe(jalka) of a mushroom can also indicate a lot of information from the mushroom. Thin and thick shapes are more distinctive than average size.  \n",
    "7) Geographic location of the mushroom could be useful as some species probably don't grow everywhere in Finland.\n",
    "\n",
    "There is also a lot of data such as smell and touch that could be used but then user would have to input it him or herself.\n",
    "\n",
    "Sources:\n",
    "* http://www.funga.fi/teema-aiheet/sienten-tunnistaminen/\n"
   ]
  },
  {
   "cell_type": "markdown",
   "metadata": {},
   "source": [
    "# Downloading and importing the dataset\n",
    "\n",
    "We scraped the data from mushroom.world website using a scraper beforehand. The images and the metadata are stored in both Google Drive and Amazon S3. But since Google Drive doesn't support direct downloads (like wtf) I had to put the file in S3 too. With public access rights, yey.\n",
    "\n",
    "## About the pictures\n",
    "\n",
    "The pictures are `.jpg` pictures resized to a standard 480x480 size. (Or 360x480?)"
   ]
  },
  {
   "cell_type": "code",
   "execution_count": 1,
   "metadata": {
    "collapsed": true
   },
   "outputs": [],
   "source": [
    "from io import BytesIO\n",
    "from urllib.request import urlopen\n",
    "from zipfile import ZipFile\n",
    "\n",
    "DATASET_VERSION = 'mushroom_world_2017_16_10'\n",
    "DATASET_LINK = 'https://s3.eu-central-1.amazonaws.com/deep-shrooms/{}.zip'.format(DATASET_VERSION)\n",
    "\n",
    "with urlopen(DATASET_LINK) as zipresp:\n",
    "    with ZipFile(BytesIO(zipresp.read())) as zfile:\n",
    "        zfile.extractall('./data')\n",
    "        "
   ]
  },
  {
   "cell_type": "code",
   "execution_count": 2,
   "metadata": {
    "collapsed": true
   },
   "outputs": [],
   "source": [
    "import pandas as pd\n",
    "import numpy as np\n",
    "\n",
    "DATASET_PATH = 'data/{}/'.format(DATASET_VERSION)\n",
    "\n",
    "mushroom_classes = pd.read_json(DATASET_PATH + 'mushroom_classes.json', lines=True)\n",
    "mushroom_imgs = pd.read_json(DATASET_PATH + 'mushroom_imgs.json', lines=True)\n",
    "fin_names = pd.read_csv('test_labels.csv')"
   ]
  },
  {
   "cell_type": "code",
   "execution_count": null,
   "metadata": {
    "collapsed": true
   },
   "outputs": [],
   "source": []
  },
  {
   "cell_type": "code",
   "execution_count": 3,
   "metadata": {},
   "outputs": [
    {
     "name": "stdout",
     "output_type": "stream",
     "text": [
      "<class 'pandas.core.frame.DataFrame'>\n",
      "Int64Index: 536 entries, 0 to 535\n",
      "Data columns (total 8 columns):\n",
      "file_path     536 non-null object\n",
      "img_url       536 non-null object\n",
      "name_img      536 non-null object\n",
      "name_latin    536 non-null object\n",
      "edibility     536 non-null object\n",
      "img_urls      536 non-null object\n",
      "name_eng      536 non-null object\n",
      "url_mw        536 non-null object\n",
      "dtypes: object(8)\n",
      "memory usage: 37.7+ KB\n"
     ]
    }
   ],
   "source": [
    "mushroom_info = mushroom_imgs.merge(mushroom_classes, how = \"right\", on = \"name_latin\")\n",
    "mushroom_info.info()"
   ]
  },
  {
   "cell_type": "code",
   "execution_count": 4,
   "metadata": {
    "collapsed": true
   },
   "outputs": [],
   "source": [
    "from scipy import misc\n",
    "\n",
    "def load_mushroom_images(folder_path, img_df):\n",
    "    img_dict = {}\n",
    "    for index, path in enumerate(img_df['file_path']):\n",
    "        img_dict[index] = misc.imread(folder_path + path)\n",
    "    return img_dict\n",
    "        \n",
    "img_dict = load_mushroom_images(DATASET_PATH, mushroom_info)"
   ]
  },
  {
   "cell_type": "code",
   "execution_count": 5,
   "metadata": {},
   "outputs": [
    {
     "name": "stdout",
     "output_type": "stream",
     "text": [
      "(319, 480, 3)\n",
      "10\n",
      "(319, 480, 3)\n",
      "11\n",
      "(319, 480, 3)\n",
      "12\n",
      "(319, 480, 3)\n",
      "13\n",
      "(319, 480, 3)\n",
      "14\n",
      "(319, 480, 3)\n",
      "17\n",
      "(319, 480, 3)\n",
      "18\n",
      "(320, 480, 3)\n",
      "55\n",
      "(320, 480, 3)\n",
      "56\n",
      "(320, 480, 3)\n",
      "57\n",
      "(319, 480, 3)\n",
      "58\n",
      "(319, 480, 3)\n",
      "59\n",
      "(319, 480, 3)\n",
      "60\n",
      "(319, 480, 3)\n",
      "105\n",
      "(319, 480, 3)\n",
      "106\n",
      "(319, 480, 3)\n",
      "107\n",
      "(319, 480, 3)\n",
      "108\n",
      "(319, 480, 3)\n",
      "112\n",
      "(319, 480, 3)\n",
      "113\n",
      "(319, 480, 3)\n",
      "114\n",
      "(319, 480, 3)\n",
      "115\n",
      "(319, 480, 3)\n",
      "116\n",
      "(319, 480, 3)\n",
      "120\n",
      "(319, 480, 3)\n",
      "121\n",
      "(359, 480, 3)\n",
      "148\n",
      "(359, 480, 3)\n",
      "155\n",
      "(319, 480, 3)\n",
      "159\n",
      "(319, 480, 3)\n",
      "160\n",
      "(319, 480, 3)\n",
      "161\n",
      "(319, 480, 3)\n",
      "162\n",
      "(319, 480, 3)\n",
      "172\n",
      "(319, 480, 3)\n",
      "173\n",
      "(319, 480, 3)\n",
      "174\n",
      "(319, 480, 3)\n",
      "175\n",
      "(319, 480, 3)\n",
      "176\n",
      "(319, 480, 3)\n",
      "177\n",
      "(319, 480, 3)\n",
      "178\n",
      "(319, 480, 3)\n",
      "179\n",
      "(319, 480, 3)\n",
      "180\n",
      "(319, 480, 3)\n",
      "189\n",
      "(319, 480, 3)\n",
      "190\n",
      "(319, 480, 3)\n",
      "191\n",
      "(319, 480, 3)\n",
      "192\n",
      "(319, 480, 3)\n",
      "193\n",
      "(319, 480, 3)\n",
      "194\n",
      "(319, 480, 3)\n",
      "195\n",
      "(319, 480, 3)\n",
      "196\n",
      "(319, 480, 3)\n",
      "197\n",
      "(319, 480, 3)\n",
      "198\n",
      "(319, 480, 3)\n",
      "199\n",
      "(319, 480, 3)\n",
      "211\n",
      "(319, 480, 3)\n",
      "215\n",
      "(319, 480, 3)\n",
      "231\n",
      "(319, 480, 3)\n",
      "232\n",
      "(319, 480, 3)\n",
      "233\n",
      "(319, 480, 3)\n",
      "234\n",
      "(319, 480, 3)\n",
      "235\n",
      "(319, 480, 3)\n",
      "245\n",
      "(319, 480, 3)\n",
      "246\n",
      "(319, 480, 3)\n",
      "247\n",
      "(319, 480, 3)\n",
      "248\n",
      "(319, 480, 3)\n",
      "249\n",
      "(319, 480, 3)\n",
      "255\n",
      "(319, 480, 3)\n",
      "256\n",
      "(319, 480, 3)\n",
      "257\n",
      "(319, 480, 3)\n",
      "258\n",
      "(319, 480, 3)\n",
      "269\n",
      "(319, 480, 3)\n",
      "270\n",
      "(319, 480, 3)\n",
      "271\n",
      "(319, 480, 3)\n",
      "273\n",
      "(319, 480, 3)\n",
      "274\n",
      "(319, 480, 3)\n",
      "275\n",
      "(319, 480, 3)\n",
      "276\n",
      "(319, 480, 3)\n",
      "277\n",
      "(319, 480, 3)\n",
      "294\n",
      "(319, 480, 3)\n",
      "296\n",
      "(319, 480, 3)\n",
      "297\n",
      "(319, 480, 3)\n",
      "298\n",
      "(319, 480, 3)\n",
      "304\n",
      "(319, 480, 3)\n",
      "305\n",
      "(319, 480, 3)\n",
      "306\n",
      "(319, 480, 3)\n",
      "307\n",
      "(319, 480, 3)\n",
      "313\n",
      "(319, 480, 3)\n",
      "314\n",
      "(319, 480, 3)\n",
      "315\n",
      "(319, 480, 3)\n",
      "316\n",
      "(319, 480, 3)\n",
      "317\n",
      "(320, 480, 3)\n",
      "322\n",
      "(320, 480, 3)\n",
      "329\n",
      "(320, 480, 3)\n",
      "330\n",
      "(320, 480, 3)\n",
      "331\n",
      "(320, 480, 3)\n",
      "332\n",
      "(320, 480, 3)\n",
      "333\n",
      "(320, 480, 3)\n",
      "334\n",
      "(320, 480, 3)\n",
      "335\n",
      "(319, 480, 3)\n",
      "336\n",
      "(319, 480, 3)\n",
      "337\n",
      "(319, 480, 3)\n",
      "338\n",
      "(319, 480, 3)\n",
      "339\n",
      "(319, 480, 3)\n",
      "340\n",
      "(319, 480, 3)\n",
      "341\n",
      "(319, 480, 3)\n",
      "342\n",
      "(319, 480, 3)\n",
      "343\n",
      "(319, 480, 3)\n",
      "344\n",
      "(321, 480, 3)\n",
      "357\n",
      "(396, 480, 3)\n",
      "363\n",
      "(319, 480, 3)\n",
      "364\n",
      "(319, 480, 3)\n",
      "365\n",
      "(319, 480, 3)\n",
      "366\n",
      "(319, 480, 3)\n",
      "367\n",
      "(319, 480, 3)\n",
      "368\n",
      "(319, 480, 3)\n",
      "390\n",
      "(319, 480, 3)\n",
      "391\n",
      "(319, 480, 3)\n",
      "392\n",
      "(319, 480, 3)\n",
      "393\n",
      "(319, 480, 3)\n",
      "394\n",
      "(319, 480, 3)\n",
      "395\n",
      "(319, 480, 3)\n",
      "396\n",
      "(319, 480, 3)\n",
      "397\n",
      "(319, 480, 3)\n",
      "398\n",
      "(319, 480, 3)\n",
      "407\n",
      "(319, 480, 3)\n",
      "409\n",
      "(319, 480, 3)\n",
      "410\n",
      "(319, 480, 3)\n",
      "415\n",
      "(319, 480, 3)\n",
      "416\n",
      "(319, 480, 3)\n",
      "422\n",
      "(319, 480, 3)\n",
      "423\n",
      "(319, 480, 3)\n",
      "424\n",
      "(319, 480, 3)\n",
      "425\n",
      "(319, 480, 3)\n",
      "426\n",
      "(319, 480, 3)\n",
      "427\n",
      "(319, 480, 3)\n",
      "438\n",
      "(319, 480, 3)\n",
      "439\n",
      "(319, 480, 3)\n",
      "440\n",
      "(319, 480, 3)\n",
      "441\n",
      "(319, 480, 3)\n",
      "442\n",
      "(319, 480, 3)\n",
      "443\n",
      "(319, 480, 3)\n",
      "444\n",
      "(319, 480, 3)\n",
      "445\n",
      "(356, 480, 3)\n",
      "446\n",
      "(480, 360, 3)\n",
      "452\n",
      "(480, 360, 3)\n",
      "453\n",
      "(479, 480, 3)\n",
      "459\n",
      "(359, 480, 3)\n",
      "461\n",
      "(319, 480, 3)\n",
      "462\n",
      "(319, 480, 3)\n",
      "463\n",
      "(319, 480, 3)\n",
      "464\n",
      "(319, 480, 3)\n",
      "465\n",
      "(319, 480, 3)\n",
      "477\n",
      "(319, 480, 3)\n",
      "501\n",
      "(319, 480, 3)\n",
      "502\n",
      "(319, 480, 3)\n",
      "503\n",
      "(319, 480, 3)\n",
      "504\n",
      "(319, 480, 3)\n",
      "505\n",
      "(480, 360, 3)\n",
      "506\n",
      "(480, 304, 3)\n",
      "507\n",
      "(480, 360, 3)\n",
      "508\n",
      "(480, 480, 3)\n",
      "509\n",
      "(319, 480, 3)\n",
      "513\n",
      "(319, 480, 3)\n",
      "514\n",
      "(319, 480, 3)\n",
      "515\n",
      "(319, 480, 3)\n",
      "522\n",
      "(319, 480, 3)\n",
      "523\n",
      "(319, 480, 3)\n",
      "524\n",
      "(480, 446, 3)\n",
      "529\n",
      "(323, 480, 3)\n",
      "530\n",
      "166\n"
     ]
    }
   ],
   "source": [
    "#Quick look at the amount and shapes of images are not in the shape of the first element, \n",
    "#which is in the most common format (360,480,3)\n",
    "i = 0\n",
    "for img in img_dict:\n",
    "    if img_dict[img].shape != img_dict[0].shape:\n",
    "        i = i + 1\n",
    "        print(img_dict[img].shape)\n",
    "        print(img)\n",
    "print(i)\n",
    "\n",
    "#If this cell is run after the formatting is done, it should print 0 since all pictures should be in same format"
   ]
  },
  {
   "cell_type": "code",
   "execution_count": 6,
   "metadata": {
    "collapsed": true
   },
   "outputs": [],
   "source": [
    "import math\n",
    "#Format the pictures to (480,480,3) by padding them with the edge values\n",
    "for img in img_dict:\n",
    "    height = 480 - img_dict[img].shape[0]\n",
    "    width = 480 - img_dict[img].shape[1]\n",
    "\n",
    "    if(height % 2 == 1 & width % 2 == 1):\n",
    "        height1,height2 = math.floor(height/2), math.floor(height/2) + 1\n",
    "        width1,width2 = math.floor(width/2), math.floor(width/2) +1\n",
    "    elif(width % 2 == 1):\n",
    "        width1,width2 = math.floor(width/2), math.floor(height/2) + 1\n",
    "        height1,height2 = int(height/2), int(height/2)\n",
    "    elif(height % 2 == 1):\n",
    "        height1,height2 = math.floor(height/2), math.floor(height/2) + 1\n",
    "        width1,width2 = int(width/2), int(width/2) \n",
    "    else:\n",
    "        height1,height2 = int(height/2), int(height/2)\n",
    "        width1,width2 = int(width/2), int(width/2)\n",
    "\n",
    "    if(height == 0):\n",
    "        img_dict[img] = np.lib.pad(img_dict[img], ((0,0),(width1, width2),(0,0)), 'edge')\n",
    "    elif (width == 0):\n",
    "        img_dict[img] = np.lib.pad(img_dict[img], ((height1, height2),(0,0),(0,0)), 'edge')\n",
    "    else:\n",
    "        img_dict[img] = np.lib.pad(img_dict[img], ((height1, height2),(width1, width2),(0,0)), 'edge')"
   ]
  },
  {
   "cell_type": "code",
   "execution_count": 7,
   "metadata": {
    "collapsed": true
   },
   "outputs": [],
   "source": [
    "import matplotlib.pyplot as plt\n",
    "\n",
    "def draw_im(i, image_data=img_dict, label_data=mushroom_info):\n",
    "    name = label_data.iloc[i].name_latin\n",
    "    edibility = label_data.iloc[i].edibility\n",
    "    url = label_data.iloc[i].img_url\n",
    "    x = image_data[i]\n",
    "    plt.imshow(x)\n",
    "    plt.title( name + \": \" + edibility + \"\\n(\" + url + \")\")\n",
    "    plt.show()\n"
   ]
  },
  {
   "cell_type": "code",
   "execution_count": 8,
   "metadata": {},
   "outputs": [
    {
     "data": {
      "image/png": "[encoded data removed]",
      "text/plain": [
       "<matplotlib.figure.Figure at 0x7f5b2345f438>"
      ]
     },
     "metadata": {},
     "output_type": "display_data"
    }
   ],
   "source": [
    "draw_im(20)"
   ]
  },
  {
   "cell_type": "markdown",
   "metadata": {},
   "source": [
    "# Some formatting\n",
    "\n",
    "Create a binary variable from the different edibility classes. One justifiable choice seems to be to categorize the mushrooms to only edible vs non-edible. The category \"edible when cooked\" can also be included in the non-edibles. Therefore any mushroom labeled with edible would be safe to eat without any concern."
   ]
  },
  {
   "cell_type": "code",
   "execution_count": 9,
   "metadata": {},
   "outputs": [
    {
     "data": {
      "text/plain": [
       "inedible                202\n",
       "edible                  149\n",
       "poisonous                77\n",
       "edible and good          50\n",
       "edible and excellent     27\n",
       "lethally poisonous       16\n",
       "edible when cooked       15\n",
       "Name: edibility, dtype: int64"
      ]
     },
     "execution_count": 9,
     "metadata": {},
     "output_type": "execute_result"
    }
   ],
   "source": [
    "mushroom_info.edibility.value_counts()"
   ]
  },
  {
   "cell_type": "code",
   "execution_count": 11,
   "metadata": {},
   "outputs": [
    {
     "name": "stdout",
     "output_type": "stream",
     "text": [
      "(536, 480, 480, 3)\n",
      "(536,)\n"
     ]
    }
   ],
   "source": [
    "labels = mushroom_info.edibility.isin((\"edible\", \"edible and good\", \"edible and excellent\"))\n",
    "\n",
    "X = []\n",
    "y = []\n",
    "\n",
    "for i in range(len(labels)):\n",
    "    if(img_dict[i].shape == (480,480,3)):\n",
    "        y.append(labels[i])\n",
    "        X.append(img_dict[i])\n",
    "\n",
    "\n",
    "X = np.stack(X)\n",
    "y = pd.Series(y)\n",
    "\n",
    "print(X.shape)\n",
    "print(y.shape)"
   ]
  },
  {
   "cell_type": "markdown",
   "metadata": {},
   "source": [
    "It is usually a good idea to at least standardice the predictors. Below I use imagedatagenerator from keras which can also provide augmentatio of the images. This can helps by creating more training data by utilizing artificial data samples."
   ]
  },
  {
   "cell_type": "code",
   "execution_count": 12,
   "metadata": {},
   "outputs": [
    {
     "name": "stderr",
     "output_type": "stream",
     "text": [
      "Using TensorFlow backend.\n"
     ]
    }
   ],
   "source": [
    "from keras.preprocessing.image import ImageDataGenerator\n",
    "\n",
    "datagen = ImageDataGenerator(\n",
    "    featurewise_center=True,\n",
    "    featurewise_std_normalization=True,\n",
    "    rotation_range=20,\n",
    "    width_shift_range=0.2,\n",
    "    height_shift_range=0.2,\n",
    "    horizontal_flip=True)\n",
    "\n",
    "# compute quantities required for featurewise normalization\n",
    "# (std, mean, and principal components if ZCA whitening is applied)\n",
    "datagen.fit(X)\n"
   ]
  },
  {
   "cell_type": "markdown",
   "metadata": {},
   "source": [
    "Our labels are now a binary variable where \"True\" indicates that the mushroom is edible."
   ]
  },
  {
   "cell_type": "code",
   "execution_count": 13,
   "metadata": {},
   "outputs": [
    {
     "data": {
      "text/plain": [
       "False    310\n",
       "True     226\n",
       "dtype: int64"
      ]
     },
     "execution_count": 13,
     "metadata": {},
     "output_type": "execute_result"
    }
   ],
   "source": [
    "y.value_counts()"
   ]
  },
  {
   "cell_type": "markdown",
   "metadata": {},
   "source": [
    "# Modeling\n",
    "\n",
    "Use Keras to train neural networks. A tutorial for binary image classification is [here](https://blog.keras.io/building-powerful-image-classification-models-using-very-little-data.html)."
   ]
  },
  {
   "cell_type": "code",
   "execution_count": 14,
   "metadata": {
    "collapsed": true
   },
   "outputs": [],
   "source": [
    "from keras.models import Sequential\n",
    "from keras.layers import Conv2D, MaxPooling2D\n",
    "from keras.layers import Dense, Activation, Dropout, Flatten\n",
    "\n",
    "def my_model():\n",
    "    model = Sequential()\n",
    "    model.add(Conv2D(32, (3, 3), input_shape=X[0].shape))\n",
    "    model.add(Activation('relu'))\n",
    "    model.add(MaxPooling2D(pool_size=(2, 2)))\n",
    "\n",
    "    model.add(Conv2D(64, (3, 3)))\n",
    "    model.add(Activation('relu'))\n",
    "    model.add(MaxPooling2D(pool_size=(2, 2)))\n",
    "\n",
    "    model.add(Conv2D(128, (3, 3)))\n",
    "    model.add(Activation('relu'))\n",
    "    model.add(MaxPooling2D(pool_size=(2, 2)))\n",
    "\n",
    "    model.add(Flatten())\n",
    "    model.add(Dense(128))\n",
    "    model.add(Activation('relu'))\n",
    "    model.add(Dropout(0.33))\n",
    "    model.add(Dense(1))\n",
    "    model.add(Activation('sigmoid')) # sigmoid is the binary case of softmax \n",
    "    return model\n",
    "\n"
   ]
  },
  {
   "cell_type": "code",
   "execution_count": 15,
   "metadata": {
    "collapsed": true
   },
   "outputs": [],
   "source": [
    "model = my_model()\n",
    "model.compile(loss='binary_crossentropy',\n",
    "              optimizer='rmsprop',\n",
    "              metrics=['accuracy'])\n"
   ]
  },
  {
   "cell_type": "code",
   "execution_count": 17,
   "metadata": {},
   "outputs": [],
   "source": [
    "# fits the model on batches with real-time data augmentation:\n",
    "model.fit_generator(datagen.flow(X, y, batch_size = 32),\n",
    "                    steps_per_epoch=len(X) / 32, epochs = 100, verbose = 2)\n",
    "model.save_weights('models/second.h5')"
   ]
  },
  {
   "cell_type": "code",
   "execution_count": 18,
   "metadata": {},
   "outputs": [
    {
     "data": {
      "text/plain": [
       "array([[ 1.        ],\n",
       "       [ 1.        ],\n",
       "       [ 1.        ],\n",
       "       [ 0.94      ],\n",
       "       [ 0.        ],\n",
       "       [ 1.        ],\n",
       "       [ 1.        ],\n",
       "       [ 1.        ],\n",
       "       [ 1.        ],\n",
       "       [ 0.        ],\n",
       "       [ 1.        ],\n",
       "       [ 1.        ],\n",
       "       [ 1.        ],\n",
       "       [ 0.30000001],\n",
       "       [ 0.        ],\n",
       "       [ 0.        ],\n",
       "       [ 0.        ],\n",
       "       [ 0.        ],\n",
       "       [ 0.        ],\n",
       "       [ 1.        ]], dtype=float32)"
      ]
     },
     "execution_count": 18,
     "metadata": {},
     "output_type": "execute_result"
    }
   ],
   "source": [
    "model.predict(X[0:20]).round(2)"
   ]
  }
 ],
 "metadata": {
  "kernelspec": {
   "display_name": "Python 3",
   "language": "python",
   "name": "python3"
  },
  "language_info": {
   "codemirror_mode": {
    "name": "ipython",
    "version": 3
   },
   "file_extension": ".py",
   "mimetype": "text/x-python",
   "name": "python",
   "nbconvert_exporter": "python",
   "pygments_lexer": "ipython3",
   "version": "3.6.2"
  }
 },
 "nbformat": 4,
 "nbformat_minor": 2
}
