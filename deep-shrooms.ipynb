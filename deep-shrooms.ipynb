{
 "cells": [
  {
   "cell_type": "markdown",
   "metadata": {},
   "source": [
    "# DeepShrooms\n",
    "\n",
    "Our goal is to classify pictures of (common) mushrooms using some kind of web-app.\n",
    "\n",
    "Challenge is to get good quality data for the training and then negate some common problems with images such as: lighting, angle, blurriness and background noise.\n",
    "\n",
    "Current plan is to classify only the poisonous mushrooms of Finland along with some common edible and un-edible ones. Probably using Convolutional Neural Network.\n",
    "\n",
    "\n",
    "Preliminary Model:\n",
    "- name-fin - Finnish name\n",
    "- name-eng - English name\n",
    "- name-latin - Latin name\n",
    "- url-mw - Mushroom-world url\n",
    "- url-wiki? - Wikipedia url\n",
    "- url-lajit? - Lajit.fi url\n",
    "- type - edible/poisonous/inedible\n",
    "\n",
    "## Sources of data\n",
    "\n",
    "Mushroom World\n",
    "http://www.mushroom.world\n",
    "\n",
    "Lajit\n",
    "http://tun.fi/HBF.25786?locale=fi\n"
   ]
  },
  {
   "cell_type": "markdown",
   "metadata": {},
   "source": [
    "# Importing of the data set\n",
    "\n",
    "We scraped the data from mushroom.world website using a scraper beforehand. The images and the metadata is is stored in Google Drive but you can if you need to download them by yourselves, instructions in the root of this repository."
   ]
  },
  {
   "cell_type": "code",
   "execution_count": 39,
   "metadata": {},
   "outputs": [],
   "source": [
    "import pandas as pd\n",
    "import numpy as np\n",
    "\n",
    "test_labels = pd.read_csv('test_labels.csv')"
   ]
  },
  {
   "cell_type": "markdown",
   "metadata": {},
   "source": [
    "# Some formatting?\n",
    "\n",
    "Idk. Add finnish names to some classes? Subset the dataset to only use those?"
   ]
  },
  {
   "cell_type": "code",
   "execution_count": 137,
   "metadata": {},
   "outputs": [
    {
     "name": "stdout",
     "output_type": "stream",
     "text": [
      "\n"
     ]
    }
   ],
   "source": [
    "#[row for row in test_labels.itertuples()]\n",
    "#print(test_labels[1:2])\n",
    "#dum = {row[1].lower().replace(' ', '_') for row in test_labels.itertuples()}\n",
    "#print(dum)\n",
    "#'http://www.mushroom.world/data/fungi/Cantharelluscibarius1.JPG'[-3:].lower()\n",
    "\n",
    "a = \"\\u00a0 \\u00a0 (Bitter Bolete)\"\n",
    "a = \"\"\n",
    "b = a.strip()[1:-1] if a is not None else null\n",
    "print(b)"
   ]
  }
 ],
 "metadata": {
  "kernelspec": {
   "display_name": "Python 3",
   "language": "python",
   "name": "python3"
  },
  "language_info": {
   "codemirror_mode": {
    "name": "ipython",
    "version": 3
   },
   "file_extension": ".py",
   "mimetype": "text/x-python",
   "name": "python",
   "nbconvert_exporter": "python",
   "pygments_lexer": "ipython3",
   "version": "3.6.2"
  }
 },
 "nbformat": 4,
 "nbformat_minor": 2
}
