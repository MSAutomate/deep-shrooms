{
 "cells": [
  {
   "cell_type": "markdown",
   "metadata": {},
   "source": [
    "# DeepShrooms\n",
    "\n",
    "Our goal is to classify pictures of (common) mushrooms using some kind of web-app.\n",
    "\n",
    "Challenge is to get good quality data for the training and then negate some common problems with images such as: lighting, angle, blurriness and background noise.\n",
    "\n",
    "Current plan is to classify only the poisonous mushrooms of Finland along with some common edible and un-edible ones. Probably using Convolutional Neural Network.\n",
    "\n",
    "\n",
    "Preliminary Models:\n",
    "\n",
    "Mushroom Class\n",
    "- name_fin - Finnish name\n",
    "- name_eng - English name\n",
    "- name_latin - Latin name\n",
    "- url_mw - Mushroom-world url\n",
    "- url_wiki? - Wikipedia url\n",
    "- url_lajit? - Lajit.fi url\n",
    "- img_urls? - List of links to its images. Probably should be deleted.\n",
    "- edibility - edible/poisonous/inedible\n",
    "\n",
    "Mushroom Image\n",
    "- name_latin - Latin name\n",
    "- name_img - Name of the image file\n",
    "- img_url - URL to the original picture\n",
    "- file_path - Path to the image from the root of its containing folder.\n",
    "\n",
    "## Sources of data\n",
    "\n",
    "Mushroom World\n",
    "http://www.mushroom.world\n",
    "\n",
    "Lajit\n",
    "http://tun.fi/HBF.25786?locale=fi\n",
    "\n",
    "Luontoportti\n",
    "http://www.luontoportti.com/suomi/fi/sienet/\n",
    "\n",
    "\n",
    "## General guidance for classifying mushrooms from pictures\n",
    "\n",
    "1) Note where the mushroom grows: is it on the ground or on wood.  \n",
    "1.1) If it grows on ground it could be a saprotroph of detritus (karikkeen lahottaja), mycorrhiza (juurisieni) which is specific type of mushroom living from the roots of a tree or it could still be a saprotroph of a tree but the wood is on ground level.  \n",
    "1.2) If it grows on wood consider if it's conifer(havupuu) or hardwood(lehtipuu). Some species grow on only a very specific wood like oak.  \n",
    "2) Do not consider the time of year to be a indicator of any sort. Every year the seasons length differ so one year the mushroom season might start way later than the next year.  \n",
    "3) Underneath the mushroom cap can be different types of gills in various combinations. (TODO)  \n",
    "4) Surface of the cap is also a very good classifier of the mushroom. The structure might not be possible to know from a picture though.  \n",
    "5) Color of the mushroom varies a lot depending on the humidity and the age of the mushroom. When raining the colors get deeper and more distinctive. Young mushrooms have stronger colors than old ones. Also sunlight might diminish the colors.  \n",
    "6) Stipe(jalka) of a mushroom can also indicate a lot of information from the mushroom. Thin and thick shapes are more distinctive than average size.  \n",
    "7) Geographic location of the mushroom could be useful as some species probably don't grow everywhere in Finland.\n",
    "\n",
    "There is also a lot of data such as smell and touch that could be used but then user would have to input it him or herself.\n",
    "\n",
    "Sources:\n",
    "* http://www.funga.fi/teema-aiheet/sienten-tunnistaminen/\n"
   ]
  },
  {
   "cell_type": "markdown",
   "metadata": {},
   "source": [
    "# Downloading and importing the dataset\n",
    "\n",
    "We scraped the data from mushroom.world website using a scraper beforehand. The images and the metadata are stored in both Google Drive and Amazon S3. But since Google Drive doesn't support direct downloads (like wtf) I had to put the file in S3 too. With public access rights, yey.\n",
    "\n",
    "## About the pictures\n",
    "\n",
    "The pictures are `.jpg` pictures resized to a standard 480x480 size."
   ]
  },
  {
   "cell_type": "code",
   "execution_count": 3,
   "metadata": {},
   "outputs": [],
   "source": [
    "from io import BytesIO\n",
    "from urllib.request import urlopen\n",
    "from zipfile import ZipFile\n",
    "\n",
    "DATASET_VERSION = 'mushroom_world_2017_16_10'\n",
    "DATASET_LINK = 'https://s3.eu-central-1.amazonaws.com/deep-shrooms/{}.zip'.format(DATASET_VERSION)\n",
    "\n",
    "with urlopen(DATASET_LINK) as zipresp:\n",
    "    with ZipFile(BytesIO(zipresp.read())) as zfile:\n",
    "        zfile.extractall('./data')"
   ]
  },
  {
   "cell_type": "code",
   "execution_count": 4,
   "metadata": {},
   "outputs": [],
   "source": [
    "import pandas as pd\n",
    "import numpy as np\n",
    "\n",
    "DATASET_PATH = 'data/{}/'.format(DATASET_VERSION)\n",
    "\n",
    "mushroom_classes = pd.read_json(DATASET_PATH + 'mushroom_classes.json', lines=True)\n",
    "mushroom_imgs = pd.read_json(DATASET_PATH + 'mushroom_imgs.json', lines=True)\n",
    "fin_names = pd.read_csv('test_labels.csv')"
   ]
  },
  {
   "cell_type": "code",
   "execution_count": 5,
   "metadata": {},
   "outputs": [],
   "source": [
    "from scipy import misc\n",
    "\n",
    "def load_mushroom_images(folder_path, img_df):\n",
    "    img_dict = {}\n",
    "    for index, path in enumerate(img_df['file_path']):\n",
    "        img_dict[index] = misc.imread(folder_path + path)\n",
    "    return img_dict\n",
    "        \n",
    "img_dict = load_mushroom_images(DATASET_PATH, mushroom_imgs)"
   ]
  },
  {
   "cell_type": "code",
   "execution_count": 7,
   "metadata": {},
   "outputs": [
    {
     "data": {
      "text/plain": [
       "array([[[ 59,  65,  87],\n",
       "        [ 78,  85, 104],\n",
       "        [103, 111, 124],\n",
       "        ..., \n",
       "        [ 86,  71,  66],\n",
       "        [ 96,  78,  74],\n",
       "        [101,  83,  79]],\n",
       "\n",
       "       [[ 87,  96, 113],\n",
       "        [106, 115, 130],\n",
       "        [129, 139, 148],\n",
       "        ..., \n",
       "        [ 81,  66,  61],\n",
       "        [ 89,  74,  69],\n",
       "        [ 97,  79,  75]],\n",
       "\n",
       "       [[108, 122, 131],\n",
       "        [126, 141, 146],\n",
       "        [147, 161, 162],\n",
       "        ..., \n",
       "        [ 75,  61,  58],\n",
       "        [ 85,  70,  67],\n",
       "        [ 93,  78,  75]],\n",
       "\n",
       "       ..., \n",
       "       [[ 45,  80,  60],\n",
       "        [ 51,  85,  68],\n",
       "        [ 58,  95,  77],\n",
       "        ..., \n",
       "        [178, 209, 212],\n",
       "        [180, 211, 216],\n",
       "        [183, 214, 219]],\n",
       "\n",
       "       [[ 47,  79,  58],\n",
       "        [ 51,  82,  64],\n",
       "        [ 55,  88,  69],\n",
       "        ..., \n",
       "        [175, 208, 213],\n",
       "        [178, 211, 216],\n",
       "        [179, 212, 217]],\n",
       "\n",
       "       [[ 57,  85,  63],\n",
       "        [ 58,  87,  67],\n",
       "        [ 58,  87,  67],\n",
       "        ..., \n",
       "        [173, 208, 212],\n",
       "        [177, 212, 216],\n",
       "        [178, 213, 217]]], dtype=uint8)"
      ]
     },
     "execution_count": 7,
     "metadata": {},
     "output_type": "execute_result"
    }
   ],
   "source": [
    "img_dict[0]"
   ]
  },
  {
   "cell_type": "markdown",
   "metadata": {},
   "source": [
    "# Some formatting?\n",
    "\n",
    "Idk. Add finnish names to some classes? Subset the dataset to only use those?"
   ]
  },
  {
   "cell_type": "code",
   "execution_count": 8,
   "metadata": {},
   "outputs": [
    {
     "data": {
      "text/html": [
       "<div>\n",
       "<table border=\"1\" class=\"dataframe\">\n",
       "  <thead>\n",
       "    <tr style=\"text-align: right;\">\n",
       "      <th></th>\n",
       "      <th>file_path</th>\n",
       "      <th>img_url</th>\n",
       "      <th>name_img</th>\n",
       "      <th>name_latin</th>\n",
       "    </tr>\n",
       "  </thead>\n",
       "  <tbody>\n",
       "    <tr>\n",
       "      <th>1</th>\n",
       "      <td>mushroom_img/tylopilus_felleus1.jpg</td>\n",
       "      <td>http://www.mushroom.world/data/fungi/Tylopilus...</td>\n",
       "      <td>tylopilus_felleus1.jpg</td>\n",
       "      <td>Tylopilus felleus</td>\n",
       "    </tr>\n",
       "    <tr>\n",
       "      <th>2</th>\n",
       "      <td>mushroom_img/albatrellus_ovinus0.jpg</td>\n",
       "      <td>http://www.mushroom.world/data/fungi/Albatrell...</td>\n",
       "      <td>albatrellus_ovinus0.jpg</td>\n",
       "      <td>Albatrellus ovinus</td>\n",
       "    </tr>\n",
       "    <tr>\n",
       "      <th>3</th>\n",
       "      <td>mushroom_img/albatrellus_ovinus1.jpg</td>\n",
       "      <td>http://www.mushroom.world/data/fungi/Albatrell...</td>\n",
       "      <td>albatrellus_ovinus1.jpg</td>\n",
       "      <td>Albatrellus ovinus</td>\n",
       "    </tr>\n",
       "  </tbody>\n",
       "</table>\n",
       "</div>"
      ],
      "text/plain": [
       "                              file_path  \\\n",
       "1   mushroom_img/tylopilus_felleus1.jpg   \n",
       "2  mushroom_img/albatrellus_ovinus0.jpg   \n",
       "3  mushroom_img/albatrellus_ovinus1.jpg   \n",
       "\n",
       "                                             img_url                 name_img  \\\n",
       "1  http://www.mushroom.world/data/fungi/Tylopilus...   tylopilus_felleus1.jpg   \n",
       "2  http://www.mushroom.world/data/fungi/Albatrell...  albatrellus_ovinus0.jpg   \n",
       "3  http://www.mushroom.world/data/fungi/Albatrell...  albatrellus_ovinus1.jpg   \n",
       "\n",
       "           name_latin  \n",
       "1   Tylopilus felleus  \n",
       "2  Albatrellus ovinus  \n",
       "3  Albatrellus ovinus  "
      ]
     },
     "execution_count": 8,
     "metadata": {},
     "output_type": "execute_result"
    }
   ],
   "source": [
    "#[row for row in test_labels.itertuples()]\n",
    "#print(test_labels[1:2])\n",
    "#dum = {row[1].lower().replace(' ', '_') for row in test_labels.itertuples()}\n",
    "#print(dum)\n",
    "#'http://www.mushroom.world/data/fungi/Cantharelluscibarius1.JPG'[-3:].lower()\n",
    "\n",
    "mushroom_imgs.loc[1:3]"
   ]
  }
 ],
 "metadata": {
  "kernelspec": {
   "display_name": "Python 3",
   "language": "python",
   "name": "python3"
  },
  "language_info": {
   "codemirror_mode": {
    "name": "ipython",
    "version": 3
   },
   "file_extension": ".py",
   "mimetype": "text/x-python",
   "name": "python",
   "nbconvert_exporter": "python",
   "pygments_lexer": "ipython3",
   "version": "3.6.2"
  }
 },
 "nbformat": 4,
 "nbformat_minor": 2
}
