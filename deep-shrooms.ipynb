{
 "cells": [
  {
   "cell_type": "markdown",
   "metadata": {},
   "source": [
    "# DeepShrooms\n",
    "\n",
    "Our goal is to classify pictures of (common) mushrooms using some kind of web-app.\n",
    "\n",
    "Challenge is to get good quality data for the training and then negate some common problems with images such as: lighting, angle, blurriness and background noise.\n",
    "\n",
    "Current plan is to classify only the poisonous mushrooms of Finland along with some common edible and un-edible ones. Probably using Convolutional Neural Network.\n",
    "\n",
    "\n",
    "Preliminary Model:\n",
    "- name_fin - Finnish name\n",
    "- name_eng - English name\n",
    "- name_latin - Latin name\n",
    "- url_mw - Mushroom-world url\n",
    "- url_wiki? - Wikipedia url\n",
    "- url_lajit? - Lajit.fi url\n",
    "- edible - edible/poisonous/inedible\n",
    "\n",
    "## Sources of data\n",
    "\n",
    "Mushroom World\n",
    "http://www.mushroom.world\n",
    "\n",
    "Lajit\n",
    "http://tun.fi/HBF.25786?locale=fi\n"
   ]
  },
  {
   "cell_type": "markdown",
   "metadata": {},
   "source": [
    "# Downloading and importing the dataset\n",
    "\n",
    "We scraped the data from mushroom.world website using a scraper beforehand. The images and the metadata are stored in both Google Drive and Amazon S3. But since Google Drive doesn't support direct downloads (like wtf) I had to put the file in S3 too. With public access rights, yey."
   ]
  },
  {
   "cell_type": "code",
   "execution_count": 153,
   "metadata": {},
   "outputs": [],
   "source": [
    "from io import BytesIO\n",
    "from urllib.request import urlopen\n",
    "from zipfile import ZipFile\n",
    "\n",
    "DATASET_LINK = 'https://s3.eu-central-1.amazonaws.com/deep-shrooms/mushroom_world_2017_15_10.zip'\n",
    "\n",
    "with urlopen(DATASET_LINK) as zipresp:\n",
    "    with ZipFile(BytesIO(zipresp.read())) as zfile:\n",
    "        zfile.extractall('./data')"
   ]
  },
  {
   "cell_type": "code",
   "execution_count": 166,
   "metadata": {},
   "outputs": [
    {
     "name": "stdout",
     "output_type": "stream",
     "text": [
      "                              file_path  \\\n",
      "0   mushroom_img/tylopilus_felleus0.jpg   \n",
      "1   mushroom_img/tylopilus_felleus1.jpg   \n",
      "2  mushroom_img/albatrellus_ovinus0.jpg   \n",
      "3  mushroom_img/albatrellus_ovinus1.jpg   \n",
      "4  mushroom_img/albatrellus_ovinus2.jpg   \n",
      "\n",
      "                                             img_url                 name_img  \\\n",
      "0  http://www.mushroom.world/data/fungi/Tylopilus...   tylopilus_felleus0.jpg   \n",
      "1  http://www.mushroom.world/data/fungi/Tylopilus...   tylopilus_felleus1.jpg   \n",
      "2  http://www.mushroom.world/data/fungi/Albatrell...  albatrellus_ovinus0.jpg   \n",
      "3  http://www.mushroom.world/data/fungi/Albatrell...  albatrellus_ovinus1.jpg   \n",
      "4  http://www.mushroom.world/data/fungi/Albatrell...  albatrellus_ovinus2.jpg   \n",
      "\n",
      "           name_latin  \n",
      "0   Tylopilus felleus  \n",
      "1   Tylopilus felleus  \n",
      "2  Albatrellus ovinus  \n",
      "3  Albatrellus ovinus  \n",
      "4  Albatrellus ovinus  \n"
     ]
    }
   ],
   "source": [
    "import pandas as pd\n",
    "import numpy as np\n",
    "\n",
    "# TODO\n",
    "#mushroom_classes = pd.read_json('data/mushroom_world_15_10_2017/mushroom_classes.json', lines=True)\n",
    "mushroom_imgs = pd.read_json('mushroom_imgs.json', lines=True)\n",
    "fin_names = pd.read_csv('test_labels.csv')\n",
    "print(mushroom_imgs.head())"
   ]
  },
  {
   "cell_type": "markdown",
   "metadata": {},
   "source": [
    "# Some formatting?\n",
    "\n",
    "Idk. Add finnish names to some classes? Subset the dataset to only use those?"
   ]
  },
  {
   "cell_type": "code",
   "execution_count": 137,
   "metadata": {},
   "outputs": [
    {
     "name": "stdout",
     "output_type": "stream",
     "text": [
      "\n"
     ]
    }
   ],
   "source": [
    "#[row for row in test_labels.itertuples()]\n",
    "#print(test_labels[1:2])\n",
    "#dum = {row[1].lower().replace(' ', '_') for row in test_labels.itertuples()}\n",
    "#print(dum)\n",
    "#'http://www.mushroom.world/data/fungi/Cantharelluscibarius1.JPG'[-3:].lower()\n",
    "\n",
    "a = \"\\u00a0 \\u00a0 (Bitter Bolete)\"\n",
    "a = \"\"\n",
    "b = a.strip()[1:-1] if a is not None else null\n",
    "print(b)"
   ]
  }
 ],
 "metadata": {
  "kernelspec": {
   "display_name": "Python 3",
   "language": "python",
   "name": "python3"
  },
  "language_info": {
   "codemirror_mode": {
    "name": "ipython",
    "version": 3
   },
   "file_extension": ".py",
   "mimetype": "text/x-python",
   "name": "python",
   "nbconvert_exporter": "python",
   "pygments_lexer": "ipython3",
   "version": "3.6.2"
  }
 },
 "nbformat": 4,
 "nbformat_minor": 2
}
